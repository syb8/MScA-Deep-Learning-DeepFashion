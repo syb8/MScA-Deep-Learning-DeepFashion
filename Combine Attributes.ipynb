{
 "cells": [
  {
   "cell_type": "code",
   "execution_count": 1,
   "outputs": [],
   "source": [
    "import pandas as pd"
   ],
   "metadata": {
    "collapsed": false,
    "pycharm": {
     "name": "#%%\n"
    }
   }
  },
  {
   "cell_type": "markdown",
   "source": [
    "Combine three datasets: 'list_bbox.txt', 'list_category_img.txt', 'list_landmarks.txt' into 1 df\n",
    "\n",
    "This dataframe 'df' contains the image location/name, box coordinates, category labels and landmark locations (up to 8 locations as coordinates if available)\n",
    "\n",
    "Category labels:\n",
    "1) Upper body\n",
    "2) Lower body\n",
    "3) Full body\n",
    "\n",
    "There is an additional column name in the 'landmarks' dataset (variation_type). The values themselves look like they don't actually have this column\n"
   ],
   "metadata": {
    "collapsed": false,
    "pycharm": {
     "name": "#%% md\n"
    }
   }
  },
  {
   "cell_type": "code",
   "execution_count": 2,
   "outputs": [
    {
     "name": "stdout",
     "output_type": "stream",
     "text": [
      "list_bbox.txt\n",
      "list_category_img.txt\n",
      "list_landmarks.txt\n"
     ]
    }
   ],
   "source": [
    "dic = {}\n",
    "for i in ['list_bbox.txt', 'list_category_img.txt', 'list_landmarks.txt']:\n",
    "    if i == 'list_landmarks.txt':\n",
    "        cols = pd.read_csv('list_landmarks.txt', sep=r'\\s+', skiprows=1, chunksize=1).__next__().columns.to_list()\n",
    "        cols.remove('variation_type')\n",
    "        df = pd.read_csv('list_landmarks.txt', sep=r'\\s+', skiprows=1)\n",
    "        df.drop(df.columns[-1], axis=1, inplace=True)\n",
    "        df.columns = cols\n",
    "        dic[i] = df\n",
    "    else:\n",
    "        dic[i] = pd.read_csv(i, sep=r'\\s+', skiprows=1)"
   ],
   "metadata": {
    "collapsed": false,
    "pycharm": {
     "name": "#%%\n"
    }
   }
  },
  {
   "cell_type": "code",
   "execution_count": 3,
   "outputs": [
    {
     "data": {
      "text/plain": "dict_keys(['list_bbox.txt', 'list_category_img.txt', 'list_landmarks.txt'])"
     },
     "execution_count": 3,
     "metadata": {},
     "output_type": "execute_result"
    }
   ],
   "source": [
    "dic.keys()"
   ],
   "metadata": {
    "collapsed": false,
    "pycharm": {
     "name": "#%%\n"
    }
   }
  },
  {
   "cell_type": "code",
   "execution_count": 4,
   "outputs": [],
   "source": [
    "df = pd.merge(pd.merge(dic['list_bbox.txt'], dic['list_category_img.txt'], on='image_name'), dic['list_landmarks.txt'],\n",
    "              on='image_name')"
   ],
   "metadata": {
    "collapsed": false,
    "pycharm": {
     "name": "#%%\n"
    }
   }
  },
  {
   "cell_type": "markdown",
   "source": [
    "Replace category label with actual category text"
   ],
   "metadata": {
    "collapsed": false,
    "pycharm": {
     "name": "#%% md\n"
    }
   }
  },
  {
   "cell_type": "code",
   "execution_count": 5,
   "outputs": [
    {
     "data": {
      "text/plain": "   category_name  category_type  list_index\n0         Anorak              1           1\n1         Blazer              1           2\n2         Blouse              1           3\n3         Bomber              1           4\n4    Button-Down              1           5\n5       Cardigan              1           6\n6        Flannel              1           7\n7         Halter              1           8\n8         Henley              1           9\n9         Hoodie              1          10\n10        Jacket              1          11\n11        Jersey              1          12\n12         Parka              1          13\n13       Peacoat              1          14\n14        Poncho              1          15\n15       Sweater              1          16\n16          Tank              1          17\n17           Tee              1          18\n18           Top              1          19\n19    Turtleneck              1          20\n20        Capris              2          21\n21        Chinos              2          22\n22      Culottes              2          23\n23       Cutoffs              2          24\n24       Gauchos              2          25\n25         Jeans              2          26\n26      Jeggings              2          27\n27      Jodhpurs              2          28\n28       Joggers              2          29\n29      Leggings              2          30\n30        Sarong              2          31\n31        Shorts              2          32\n32         Skirt              2          33\n33    Sweatpants              2          34\n34   Sweatshorts              2          35\n35        Trunks              2          36\n36        Caftan              3          37\n37          Cape              3          38\n38          Coat              3          39\n39       Coverup              3          40\n40         Dress              3          41\n41      Jumpsuit              3          42\n42        Kaftan              3          43\n43        Kimono              3          44\n44    Nightdress              3          45\n45        Onesie              3          46\n46          Robe              3          47\n47        Romper              3          48\n48    Shirtdress              3          49\n49      Sundress              3          50",
      "text/html": "<div>\n<style scoped>\n    .dataframe tbody tr th:only-of-type {\n        vertical-align: middle;\n    }\n\n    .dataframe tbody tr th {\n        vertical-align: top;\n    }\n\n    .dataframe thead th {\n        text-align: right;\n    }\n</style>\n<table border=\"1\" class=\"dataframe\">\n  <thead>\n    <tr style=\"text-align: right;\">\n      <th></th>\n      <th>category_name</th>\n      <th>category_type</th>\n      <th>list_index</th>\n    </tr>\n  </thead>\n  <tbody>\n    <tr>\n      <th>0</th>\n      <td>Anorak</td>\n      <td>1</td>\n      <td>1</td>\n    </tr>\n    <tr>\n      <th>1</th>\n      <td>Blazer</td>\n      <td>1</td>\n      <td>2</td>\n    </tr>\n    <tr>\n      <th>2</th>\n      <td>Blouse</td>\n      <td>1</td>\n      <td>3</td>\n    </tr>\n    <tr>\n      <th>3</th>\n      <td>Bomber</td>\n      <td>1</td>\n      <td>4</td>\n    </tr>\n    <tr>\n      <th>4</th>\n      <td>Button-Down</td>\n      <td>1</td>\n      <td>5</td>\n    </tr>\n    <tr>\n      <th>5</th>\n      <td>Cardigan</td>\n      <td>1</td>\n      <td>6</td>\n    </tr>\n    <tr>\n      <th>6</th>\n      <td>Flannel</td>\n      <td>1</td>\n      <td>7</td>\n    </tr>\n    <tr>\n      <th>7</th>\n      <td>Halter</td>\n      <td>1</td>\n      <td>8</td>\n    </tr>\n    <tr>\n      <th>8</th>\n      <td>Henley</td>\n      <td>1</td>\n      <td>9</td>\n    </tr>\n    <tr>\n      <th>9</th>\n      <td>Hoodie</td>\n      <td>1</td>\n      <td>10</td>\n    </tr>\n    <tr>\n      <th>10</th>\n      <td>Jacket</td>\n      <td>1</td>\n      <td>11</td>\n    </tr>\n    <tr>\n      <th>11</th>\n      <td>Jersey</td>\n      <td>1</td>\n      <td>12</td>\n    </tr>\n    <tr>\n      <th>12</th>\n      <td>Parka</td>\n      <td>1</td>\n      <td>13</td>\n    </tr>\n    <tr>\n      <th>13</th>\n      <td>Peacoat</td>\n      <td>1</td>\n      <td>14</td>\n    </tr>\n    <tr>\n      <th>14</th>\n      <td>Poncho</td>\n      <td>1</td>\n      <td>15</td>\n    </tr>\n    <tr>\n      <th>15</th>\n      <td>Sweater</td>\n      <td>1</td>\n      <td>16</td>\n    </tr>\n    <tr>\n      <th>16</th>\n      <td>Tank</td>\n      <td>1</td>\n      <td>17</td>\n    </tr>\n    <tr>\n      <th>17</th>\n      <td>Tee</td>\n      <td>1</td>\n      <td>18</td>\n    </tr>\n    <tr>\n      <th>18</th>\n      <td>Top</td>\n      <td>1</td>\n      <td>19</td>\n    </tr>\n    <tr>\n      <th>19</th>\n      <td>Turtleneck</td>\n      <td>1</td>\n      <td>20</td>\n    </tr>\n    <tr>\n      <th>20</th>\n      <td>Capris</td>\n      <td>2</td>\n      <td>21</td>\n    </tr>\n    <tr>\n      <th>21</th>\n      <td>Chinos</td>\n      <td>2</td>\n      <td>22</td>\n    </tr>\n    <tr>\n      <th>22</th>\n      <td>Culottes</td>\n      <td>2</td>\n      <td>23</td>\n    </tr>\n    <tr>\n      <th>23</th>\n      <td>Cutoffs</td>\n      <td>2</td>\n      <td>24</td>\n    </tr>\n    <tr>\n      <th>24</th>\n      <td>Gauchos</td>\n      <td>2</td>\n      <td>25</td>\n    </tr>\n    <tr>\n      <th>25</th>\n      <td>Jeans</td>\n      <td>2</td>\n      <td>26</td>\n    </tr>\n    <tr>\n      <th>26</th>\n      <td>Jeggings</td>\n      <td>2</td>\n      <td>27</td>\n    </tr>\n    <tr>\n      <th>27</th>\n      <td>Jodhpurs</td>\n      <td>2</td>\n      <td>28</td>\n    </tr>\n    <tr>\n      <th>28</th>\n      <td>Joggers</td>\n      <td>2</td>\n      <td>29</td>\n    </tr>\n    <tr>\n      <th>29</th>\n      <td>Leggings</td>\n      <td>2</td>\n      <td>30</td>\n    </tr>\n    <tr>\n      <th>30</th>\n      <td>Sarong</td>\n      <td>2</td>\n      <td>31</td>\n    </tr>\n    <tr>\n      <th>31</th>\n      <td>Shorts</td>\n      <td>2</td>\n      <td>32</td>\n    </tr>\n    <tr>\n      <th>32</th>\n      <td>Skirt</td>\n      <td>2</td>\n      <td>33</td>\n    </tr>\n    <tr>\n      <th>33</th>\n      <td>Sweatpants</td>\n      <td>2</td>\n      <td>34</td>\n    </tr>\n    <tr>\n      <th>34</th>\n      <td>Sweatshorts</td>\n      <td>2</td>\n      <td>35</td>\n    </tr>\n    <tr>\n      <th>35</th>\n      <td>Trunks</td>\n      <td>2</td>\n      <td>36</td>\n    </tr>\n    <tr>\n      <th>36</th>\n      <td>Caftan</td>\n      <td>3</td>\n      <td>37</td>\n    </tr>\n    <tr>\n      <th>37</th>\n      <td>Cape</td>\n      <td>3</td>\n      <td>38</td>\n    </tr>\n    <tr>\n      <th>38</th>\n      <td>Coat</td>\n      <td>3</td>\n      <td>39</td>\n    </tr>\n    <tr>\n      <th>39</th>\n      <td>Coverup</td>\n      <td>3</td>\n      <td>40</td>\n    </tr>\n    <tr>\n      <th>40</th>\n      <td>Dress</td>\n      <td>3</td>\n      <td>41</td>\n    </tr>\n    <tr>\n      <th>41</th>\n      <td>Jumpsuit</td>\n      <td>3</td>\n      <td>42</td>\n    </tr>\n    <tr>\n      <th>42</th>\n      <td>Kaftan</td>\n      <td>3</td>\n      <td>43</td>\n    </tr>\n    <tr>\n      <th>43</th>\n      <td>Kimono</td>\n      <td>3</td>\n      <td>44</td>\n    </tr>\n    <tr>\n      <th>44</th>\n      <td>Nightdress</td>\n      <td>3</td>\n      <td>45</td>\n    </tr>\n    <tr>\n      <th>45</th>\n      <td>Onesie</td>\n      <td>3</td>\n      <td>46</td>\n    </tr>\n    <tr>\n      <th>46</th>\n      <td>Robe</td>\n      <td>3</td>\n      <td>47</td>\n    </tr>\n    <tr>\n      <th>47</th>\n      <td>Romper</td>\n      <td>3</td>\n      <td>48</td>\n    </tr>\n    <tr>\n      <th>48</th>\n      <td>Shirtdress</td>\n      <td>3</td>\n      <td>49</td>\n    </tr>\n    <tr>\n      <th>49</th>\n      <td>Sundress</td>\n      <td>3</td>\n      <td>50</td>\n    </tr>\n  </tbody>\n</table>\n</div>"
     },
     "execution_count": 5,
     "metadata": {},
     "output_type": "execute_result"
    }
   ],
   "source": [
    "cat = pd.read_csv('list_category_cloth.txt', sep=r'\\s+', skiprows=1)\n",
    "cat['list_index'] = range(1, 51)\n",
    "cat['list_index'] = cat['list_index']\n",
    "cat"
   ],
   "metadata": {
    "collapsed": false,
    "pycharm": {
     "name": "#%%\n"
    }
   }
  },
  {
   "cell_type": "code",
   "execution_count": 6,
   "outputs": [],
   "source": [
    "df['category_label'] = df['category_label'].map(dict(zip(cat['list_index'], cat['category_name'])))"
   ],
   "metadata": {
    "collapsed": false,
    "pycharm": {
     "name": "#%%\n"
    }
   }
  },
  {
   "cell_type": "code",
   "execution_count": 7,
   "outputs": [
    {
     "data": {
      "text/plain": "                                        image_name  x_1  y_1  x_2  y_2  \\\n0  img/Sheer_Pleated-Front_Blouse/img_00000001.jpg   72   79  232  273   \n1  img/Sheer_Pleated-Front_Blouse/img_00000002.jpg   67   59  155  161   \n2  img/Sheer_Pleated-Front_Blouse/img_00000003.jpg   65   65  156  200   \n3  img/Sheer_Pleated-Front_Blouse/img_00000004.jpg   51   62  167  182   \n4  img/Sheer_Pleated-Front_Blouse/img_00000005.jpg   46   88  166  262   \n\n  category_label  clothes_type  landmark_visibility_1  landmark_location_x_1  \\\n0         Blouse             1                      0                    146   \n1         Blouse             1                      0                    107   \n2         Blouse             1                      0                    101   \n3         Blouse             1                      0                     96   \n4         Blouse             1                      1                    102   \n\n   landmark_location_y_1  ...  landmark_location_y_5  landmark_visibility_6  \\\n0                    102  ...                  229.0                    0.0   \n1                     67  ...                  150.0                    0.0   \n2                     79  ...                  188.0                    0.0   \n3                     74  ...                  148.0                    0.0   \n4                    106  ...                  245.0                    0.0   \n\n   landmark_location_x_6  landmark_location_y_6  landmark_visibility_7  \\\n0                  177.0                  232.0                    NaN   \n1                  134.0                  152.0                    NaN   \n2                  118.0                  185.0                    NaN   \n3                  120.0                  148.0                    NaN   \n4                  137.0                  246.0                    NaN   \n\n   landmark_location_x_7  landmark_location_y_7  landmark_visibility_8  \\\n0                    NaN                    NaN                    NaN   \n1                    NaN                    NaN                    NaN   \n2                    NaN                    NaN                    NaN   \n3                    NaN                    NaN                    NaN   \n4                    NaN                    NaN                    NaN   \n\n   landmark_location_x_8  landmark_location_y_8  \n0                    NaN                    NaN  \n1                    NaN                    NaN  \n2                    NaN                    NaN  \n3                    NaN                    NaN  \n4                    NaN                    NaN  \n\n[5 rows x 31 columns]",
      "text/html": "<div>\n<style scoped>\n    .dataframe tbody tr th:only-of-type {\n        vertical-align: middle;\n    }\n\n    .dataframe tbody tr th {\n        vertical-align: top;\n    }\n\n    .dataframe thead th {\n        text-align: right;\n    }\n</style>\n<table border=\"1\" class=\"dataframe\">\n  <thead>\n    <tr style=\"text-align: right;\">\n      <th></th>\n      <th>image_name</th>\n      <th>x_1</th>\n      <th>y_1</th>\n      <th>x_2</th>\n      <th>y_2</th>\n      <th>category_label</th>\n      <th>clothes_type</th>\n      <th>landmark_visibility_1</th>\n      <th>landmark_location_x_1</th>\n      <th>landmark_location_y_1</th>\n      <th>...</th>\n      <th>landmark_location_y_5</th>\n      <th>landmark_visibility_6</th>\n      <th>landmark_location_x_6</th>\n      <th>landmark_location_y_6</th>\n      <th>landmark_visibility_7</th>\n      <th>landmark_location_x_7</th>\n      <th>landmark_location_y_7</th>\n      <th>landmark_visibility_8</th>\n      <th>landmark_location_x_8</th>\n      <th>landmark_location_y_8</th>\n    </tr>\n  </thead>\n  <tbody>\n    <tr>\n      <th>0</th>\n      <td>img/Sheer_Pleated-Front_Blouse/img_00000001.jpg</td>\n      <td>72</td>\n      <td>79</td>\n      <td>232</td>\n      <td>273</td>\n      <td>Blouse</td>\n      <td>1</td>\n      <td>0</td>\n      <td>146</td>\n      <td>102</td>\n      <td>...</td>\n      <td>229.0</td>\n      <td>0.0</td>\n      <td>177.0</td>\n      <td>232.0</td>\n      <td>NaN</td>\n      <td>NaN</td>\n      <td>NaN</td>\n      <td>NaN</td>\n      <td>NaN</td>\n      <td>NaN</td>\n    </tr>\n    <tr>\n      <th>1</th>\n      <td>img/Sheer_Pleated-Front_Blouse/img_00000002.jpg</td>\n      <td>67</td>\n      <td>59</td>\n      <td>155</td>\n      <td>161</td>\n      <td>Blouse</td>\n      <td>1</td>\n      <td>0</td>\n      <td>107</td>\n      <td>67</td>\n      <td>...</td>\n      <td>150.0</td>\n      <td>0.0</td>\n      <td>134.0</td>\n      <td>152.0</td>\n      <td>NaN</td>\n      <td>NaN</td>\n      <td>NaN</td>\n      <td>NaN</td>\n      <td>NaN</td>\n      <td>NaN</td>\n    </tr>\n    <tr>\n      <th>2</th>\n      <td>img/Sheer_Pleated-Front_Blouse/img_00000003.jpg</td>\n      <td>65</td>\n      <td>65</td>\n      <td>156</td>\n      <td>200</td>\n      <td>Blouse</td>\n      <td>1</td>\n      <td>0</td>\n      <td>101</td>\n      <td>79</td>\n      <td>...</td>\n      <td>188.0</td>\n      <td>0.0</td>\n      <td>118.0</td>\n      <td>185.0</td>\n      <td>NaN</td>\n      <td>NaN</td>\n      <td>NaN</td>\n      <td>NaN</td>\n      <td>NaN</td>\n      <td>NaN</td>\n    </tr>\n    <tr>\n      <th>3</th>\n      <td>img/Sheer_Pleated-Front_Blouse/img_00000004.jpg</td>\n      <td>51</td>\n      <td>62</td>\n      <td>167</td>\n      <td>182</td>\n      <td>Blouse</td>\n      <td>1</td>\n      <td>0</td>\n      <td>96</td>\n      <td>74</td>\n      <td>...</td>\n      <td>148.0</td>\n      <td>0.0</td>\n      <td>120.0</td>\n      <td>148.0</td>\n      <td>NaN</td>\n      <td>NaN</td>\n      <td>NaN</td>\n      <td>NaN</td>\n      <td>NaN</td>\n      <td>NaN</td>\n    </tr>\n    <tr>\n      <th>4</th>\n      <td>img/Sheer_Pleated-Front_Blouse/img_00000005.jpg</td>\n      <td>46</td>\n      <td>88</td>\n      <td>166</td>\n      <td>262</td>\n      <td>Blouse</td>\n      <td>1</td>\n      <td>1</td>\n      <td>102</td>\n      <td>106</td>\n      <td>...</td>\n      <td>245.0</td>\n      <td>0.0</td>\n      <td>137.0</td>\n      <td>246.0</td>\n      <td>NaN</td>\n      <td>NaN</td>\n      <td>NaN</td>\n      <td>NaN</td>\n      <td>NaN</td>\n      <td>NaN</td>\n    </tr>\n  </tbody>\n</table>\n<p>5 rows × 31 columns</p>\n</div>"
     },
     "execution_count": 7,
     "metadata": {},
     "output_type": "execute_result"
    }
   ],
   "source": [
    "df.head()"
   ],
   "metadata": {
    "collapsed": false,
    "pycharm": {
     "name": "#%%\n"
    }
   }
  },
  {
   "cell_type": "code",
   "execution_count": 8,
   "outputs": [
    {
     "name": "stderr",
     "output_type": "stream",
     "text": [
      "C:\\Users\\Kenji\\anaconda3\\lib\\site-packages\\pandas\\util\\_decorators.py:311: ParserWarning: Falling back to the 'python' engine because the 'c' engine does not support regex separators (separators > 1 char and different from '\\s+' are interpreted as regex); you can avoid this warning by specifying engine='python'.\n",
      "  return func(*args, **kwargs)\n"
     ]
    }
   ],
   "source": [
    "cloth = pd.read_csv('list_attr_cloth.txt', sep=r'\\s{2,}', skiprows=1)"
   ],
   "metadata": {
    "collapsed": false,
    "pycharm": {
     "name": "#%%\n"
    }
   }
  },
  {
   "cell_type": "code",
   "execution_count": 9,
   "outputs": [],
   "source": [
    "attr = pd.read_csv('list_attr_img.txt', sep=r'\\s+', skiprows=2, na_values=[-1, 0], header=None)\n",
    "attr.columns = ['image_name'] + cloth['attribute_name'].to_list()"
   ],
   "metadata": {
    "collapsed": false,
    "pycharm": {
     "name": "#%%\n"
    }
   }
  },
  {
   "cell_type": "code",
   "execution_count": 10,
   "outputs": [
    {
     "data": {
      "text/plain": "(289222, 1001)"
     },
     "execution_count": 10,
     "metadata": {},
     "output_type": "execute_result"
    }
   ],
   "source": [
    "attr.shape"
   ],
   "metadata": {
    "collapsed": false,
    "pycharm": {
     "name": "#%%\n"
    }
   }
  },
  {
   "cell_type": "code",
   "execution_count": 11,
   "outputs": [
    {
     "data": {
      "text/plain": "                                        image_name  a-line  abstract  \\\n0  img/Sheer_Pleated-Front_Blouse/img_00000001.jpg     NaN       NaN   \n1  img/Sheer_Pleated-Front_Blouse/img_00000002.jpg     NaN       NaN   \n2  img/Sheer_Pleated-Front_Blouse/img_00000003.jpg     NaN       NaN   \n3  img/Sheer_Pleated-Front_Blouse/img_00000004.jpg     NaN       NaN   \n4  img/Sheer_Pleated-Front_Blouse/img_00000005.jpg     NaN       NaN   \n\n   abstract chevron  abstract chevron print  abstract diamond  \\\n0               NaN                     NaN               NaN   \n1               NaN                     NaN               NaN   \n2               NaN                     NaN               NaN   \n3               NaN                     NaN               NaN   \n4               NaN                     NaN               NaN   \n\n   abstract floral  abstract floral print  abstract geo  abstract geo print  \\\n0              NaN                    NaN           NaN                 NaN   \n1              NaN                    NaN           NaN                 NaN   \n2              NaN                    NaN           NaN                 NaN   \n3              NaN                    NaN           NaN                 NaN   \n4              NaN                    NaN           NaN                 NaN   \n\n   ...  zeppelin  zig  zigzag  zip  zip-front  zip-pocket  zip-up  zipped  \\\n0  ...       NaN  NaN     NaN  NaN        NaN         NaN     NaN     NaN   \n1  ...       NaN  NaN     NaN  NaN        NaN         NaN     NaN     NaN   \n2  ...       NaN  NaN     NaN  NaN        NaN         NaN     NaN     NaN   \n3  ...       NaN  NaN     NaN  NaN        NaN         NaN     NaN     NaN   \n4  ...       NaN  NaN     NaN  NaN        NaN         NaN     NaN     NaN   \n\n   zipper  zippered  \n0     NaN       NaN  \n1     NaN       NaN  \n2     NaN       NaN  \n3     NaN       NaN  \n4     NaN       NaN  \n\n[5 rows x 1001 columns]",
      "text/html": "<div>\n<style scoped>\n    .dataframe tbody tr th:only-of-type {\n        vertical-align: middle;\n    }\n\n    .dataframe tbody tr th {\n        vertical-align: top;\n    }\n\n    .dataframe thead th {\n        text-align: right;\n    }\n</style>\n<table border=\"1\" class=\"dataframe\">\n  <thead>\n    <tr style=\"text-align: right;\">\n      <th></th>\n      <th>image_name</th>\n      <th>a-line</th>\n      <th>abstract</th>\n      <th>abstract chevron</th>\n      <th>abstract chevron print</th>\n      <th>abstract diamond</th>\n      <th>abstract floral</th>\n      <th>abstract floral print</th>\n      <th>abstract geo</th>\n      <th>abstract geo print</th>\n      <th>...</th>\n      <th>zeppelin</th>\n      <th>zig</th>\n      <th>zigzag</th>\n      <th>zip</th>\n      <th>zip-front</th>\n      <th>zip-pocket</th>\n      <th>zip-up</th>\n      <th>zipped</th>\n      <th>zipper</th>\n      <th>zippered</th>\n    </tr>\n  </thead>\n  <tbody>\n    <tr>\n      <th>0</th>\n      <td>img/Sheer_Pleated-Front_Blouse/img_00000001.jpg</td>\n      <td>NaN</td>\n      <td>NaN</td>\n      <td>NaN</td>\n      <td>NaN</td>\n      <td>NaN</td>\n      <td>NaN</td>\n      <td>NaN</td>\n      <td>NaN</td>\n      <td>NaN</td>\n      <td>...</td>\n      <td>NaN</td>\n      <td>NaN</td>\n      <td>NaN</td>\n      <td>NaN</td>\n      <td>NaN</td>\n      <td>NaN</td>\n      <td>NaN</td>\n      <td>NaN</td>\n      <td>NaN</td>\n      <td>NaN</td>\n    </tr>\n    <tr>\n      <th>1</th>\n      <td>img/Sheer_Pleated-Front_Blouse/img_00000002.jpg</td>\n      <td>NaN</td>\n      <td>NaN</td>\n      <td>NaN</td>\n      <td>NaN</td>\n      <td>NaN</td>\n      <td>NaN</td>\n      <td>NaN</td>\n      <td>NaN</td>\n      <td>NaN</td>\n      <td>...</td>\n      <td>NaN</td>\n      <td>NaN</td>\n      <td>NaN</td>\n      <td>NaN</td>\n      <td>NaN</td>\n      <td>NaN</td>\n      <td>NaN</td>\n      <td>NaN</td>\n      <td>NaN</td>\n      <td>NaN</td>\n    </tr>\n    <tr>\n      <th>2</th>\n      <td>img/Sheer_Pleated-Front_Blouse/img_00000003.jpg</td>\n      <td>NaN</td>\n      <td>NaN</td>\n      <td>NaN</td>\n      <td>NaN</td>\n      <td>NaN</td>\n      <td>NaN</td>\n      <td>NaN</td>\n      <td>NaN</td>\n      <td>NaN</td>\n      <td>...</td>\n      <td>NaN</td>\n      <td>NaN</td>\n      <td>NaN</td>\n      <td>NaN</td>\n      <td>NaN</td>\n      <td>NaN</td>\n      <td>NaN</td>\n      <td>NaN</td>\n      <td>NaN</td>\n      <td>NaN</td>\n    </tr>\n    <tr>\n      <th>3</th>\n      <td>img/Sheer_Pleated-Front_Blouse/img_00000004.jpg</td>\n      <td>NaN</td>\n      <td>NaN</td>\n      <td>NaN</td>\n      <td>NaN</td>\n      <td>NaN</td>\n      <td>NaN</td>\n      <td>NaN</td>\n      <td>NaN</td>\n      <td>NaN</td>\n      <td>...</td>\n      <td>NaN</td>\n      <td>NaN</td>\n      <td>NaN</td>\n      <td>NaN</td>\n      <td>NaN</td>\n      <td>NaN</td>\n      <td>NaN</td>\n      <td>NaN</td>\n      <td>NaN</td>\n      <td>NaN</td>\n    </tr>\n    <tr>\n      <th>4</th>\n      <td>img/Sheer_Pleated-Front_Blouse/img_00000005.jpg</td>\n      <td>NaN</td>\n      <td>NaN</td>\n      <td>NaN</td>\n      <td>NaN</td>\n      <td>NaN</td>\n      <td>NaN</td>\n      <td>NaN</td>\n      <td>NaN</td>\n      <td>NaN</td>\n      <td>...</td>\n      <td>NaN</td>\n      <td>NaN</td>\n      <td>NaN</td>\n      <td>NaN</td>\n      <td>NaN</td>\n      <td>NaN</td>\n      <td>NaN</td>\n      <td>NaN</td>\n      <td>NaN</td>\n      <td>NaN</td>\n    </tr>\n  </tbody>\n</table>\n<p>5 rows × 1001 columns</p>\n</div>"
     },
     "execution_count": 11,
     "metadata": {},
     "output_type": "execute_result"
    }
   ],
   "source": [
    "attr.head()"
   ],
   "metadata": {
    "collapsed": false,
    "pycharm": {
     "name": "#%%\n"
    }
   }
  },
  {
   "cell_type": "code",
   "execution_count": 27,
   "outputs": [],
   "source": [
    "master = df.merge(attr, on='image_name', how='inner')"
   ],
   "metadata": {
    "collapsed": false,
    "pycharm": {
     "name": "#%%\n"
    }
   }
  },
  {
   "cell_type": "code",
   "execution_count": 28,
   "outputs": [],
   "source": [
    "master.to_csv('all_data.csv', index=False)"
   ],
   "metadata": {
    "collapsed": false,
    "pycharm": {
     "name": "#%%\n"
    }
   }
  },
  {
   "cell_type": "code",
   "execution_count": null,
   "outputs": [],
   "source": [],
   "metadata": {
    "collapsed": false,
    "pycharm": {
     "name": "#%%\n"
    }
   }
  }
 ],
 "metadata": {
  "kernelspec": {
   "display_name": "Python 3",
   "language": "python",
   "name": "python3"
  },
  "language_info": {
   "codemirror_mode": {
    "name": "ipython",
    "version": 2
   },
   "file_extension": ".py",
   "mimetype": "text/x-python",
   "name": "python",
   "nbconvert_exporter": "python",
   "pygments_lexer": "ipython2",
   "version": "2.7.6"
  }
 },
 "nbformat": 4,
 "nbformat_minor": 0
}